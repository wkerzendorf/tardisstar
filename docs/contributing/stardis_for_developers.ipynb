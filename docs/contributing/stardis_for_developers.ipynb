{
 "cells": [
  {
   "cell_type": "markdown",
   "metadata": {},
   "source": [
    "# STARDIS for Developers"
   ]
  },
  {
   "cell_type": "markdown",
   "metadata": {},
   "source": [
    "Before you can start contributing to STARDIS, you'll need to download and install it up on your computer. if you haven't already, go through the [Downloading and Installing STARDIS](../installation.rst) documentation, and make sure to follow the [For Developers](../installation.rst#for-developers) section when you do so.\n",
    "\n",
    "You'll also need a set up a [Github account](https://github.com/signup?). Github is a platform that lets you easily access, download, and make edits to online 'repositories' (shared projects) using something called 'Git'. Git is a version control system that allows for developers easily keep prior versions of code, work on features without breaking the main program, and collaborate with others."
   ]
  },
  {
   "cell_type": "markdown",
   "metadata": {},
   "source": [
    "## Creating a Fork"
   ]
  },
  {
   "cell_type": "markdown",
   "metadata": {},
   "source": [
    "\"Forking\" a repository means creating a personal copy of a project so you can make edits to it. Later, these edits can be applied to the original project through a Pull Request, often shortened to \"PR\". The instructions here are will guide you through setting up STARDIS, but you can find more general instruction [here](https://docs.github.com/en/pull-requests/collaborating-with-pull-requests/working-with-forks/fork-a-repo) if you need extra help.\n",
    "\n",
    "1) Go to the [STARDIS Github page](https://github.com/tardis-sn/stardis).\n",
    "\n",
    "2) click **Fork**, which should be near the top right of the page.\n",
    "\n",
    "<div>\n",
    "<img src=\"fork.png\" width=\"400\"/>\n",
    "</div>\n",
    "\n",
    "3) By default, your account should be the Owner of this fork and \"Copy the `main` brach only\" should be selected. **click 'Create fork'**."
   ]
  },
  {
   "cell_type": "markdown",
   "metadata": {},
   "source": [
    "## SSH Key Setup"
   ]
  },
  {
   "cell_type": "markdown",
   "metadata": {},
   "source": [
    "A SSH key is a method of identification for your Github account on your device, which allows you to avoid needing to constantly provide your Github login info when using Git to make changes to STARDIS. Here, we will show you how to set up a SSH key.\n",
    "\n",
    "If you get stuck somewhere along the way, you can try\n",
    "\n",
    "- [Github's instructions for setting up a SSH key](https://docs.github.com/en/authentication/connecting-to-github-with-ssh/generating-a-new-ssh-key-and-adding-it-to-the-ssh-agent)\n",
    "\n",
    "- Watching this [youtube walkthrough](https://www.youtube.com/watch?v=snCP3c7wXw0)\n"
   ]
  },
  {
   "cell_type": "markdown",
   "metadata": {},
   "source": [
    "### Generate a SSH Key"
   ]
  },
  {
   "cell_type": "markdown",
   "metadata": {},
   "source": [
    "1) Copy this command into your Command Line terminal: `ssh-keygen -t ed25519 -C \"your-email@example.com\"`.\n",
    "    -   Replace `your-email@example.com` with the email you used for your Github account.\n",
    "\n",
    "2) When prompted to enter a file to save the key in, you can just press enter. This uses the default file location.\n",
    "\n",
    "3) You will be prompted to create a passphrase, or password, for your key.\n",
    "    -   Note that when you type this, what you type will not be shown; this is normal, so be careful!"
   ]
  },
  {
   "cell_type": "markdown",
   "metadata": {},
   "source": [
    "### Add SHH Key to SSH Agent"
   ]
  },
  {
   "cell_type": "markdown",
   "metadata": {},
   "source": [
    "Run these commands in your Command Line Terminal:\n",
    "\n",
    "1) `eval \"$(ssh-agent -s)\"`\n",
    "\n",
    "2) `ssh-add ~/.ssh/id_ed25519`\n",
    "\n",
    "3) `cat ~/.ssh/id_ed25519.pub` <-- *this just copies your key to clipboard, which is used in the next step*"
   ]
  },
  {
   "cell_type": "markdown",
   "metadata": {},
   "source": [
    "### Add SSH Key to Your Github Account"
   ]
  },
  {
   "cell_type": "markdown",
   "metadata": {},
   "source": [
    "1) Open [GitHub SSH Keys](https://github.com/settings/keys)\n",
    "\n",
    "2) Click “New SSH Key”.\n",
    "\n",
    "3) In \"Title\", enter a name (e.g., \"My Laptop\").\n",
    "\n",
    "4) Paste the copied key into the \"Key\" field.\n",
    "\n",
    "5) Click \"Add SSH Key\"."
   ]
  },
  {
   "cell_type": "markdown",
   "metadata": {},
   "source": []
  }
 ],
 "metadata": {
  "language_info": {
   "name": "python"
  }
 },
 "nbformat": 4,
 "nbformat_minor": 2
}
