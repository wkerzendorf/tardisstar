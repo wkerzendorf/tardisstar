{
 "cells": [
  {
   "cell_type": "markdown",
   "metadata": {},
   "source": [
    "# Contribution Guidelines"
   ]
  },
  {
   "cell_type": "markdown",
   "metadata": {},
   "source": [
    "If you are looking to contribute to STARDIS, then you've found the right place! Whether your looking to fix a typo somewhere in this very documentation, or fix a bug thats gone unnoticed, then hopefully what you read here will help."
   ]
  },
  {
   "cell_type": "markdown",
   "metadata": {},
   "source": [
    "## Imposter Syndrome Disclaimer"
   ]
  },
  {
   "cell_type": "markdown",
   "metadata": {},
   "source": [
    "*We want your help. No really, we do.*\n",
    "\n",
    "There might be a little voice inside that tells you you’re not ready; that you need to do one more tutorial, or learn another framework, or write a few more blog posts before you can help us with this project.\n",
    "\n",
    "We assure you, that’s not the case.\n",
    "\n",
    "STARDIS has some clear Contribution Guidelines that you can read below in the following sections.\n",
    "\n",
    "The contribution guidelines outline the process that you’ll need to follow to get a patch merged. By making expectations and process explicit, we hope it will make it easier for you to contribute.\n",
    "\n",
    "And you don’t just have to write code. You can help out by writing documentation, tests, or even by giving feedback about this work. (And yes, that includes giving feedback about the contribution guidelines.)\n",
    "\n",
    "(Thanks to [Adrienne Lowe](https://github.com/adriennefriend/imposter-syndrome-disclaimer) who came up with this disclaimer and yeah, made it OPEN for anyone to use!)"
   ]
  },
  {
   "cell_type": "markdown",
   "metadata": {},
   "source": [
    "## How can I Contribute?"
   ]
  },
  {
   "cell_type": "markdown",
   "metadata": {},
   "source": [
    "There are multiple ways in which you can help us:\n",
    "\n",
    "- Found a bug in STARDIS? Report it to us!\n",
    "\n",
    "- Caught a typo in documentation or want to make it better to understand? Edit it!\n",
    "\n",
    "- Know how to fix an issue or add a new feature? Make a patch!\n",
    "\n",
    "- Loved using STARDIS? Share it with others!\n",
    "\n",
    "- Anything we missed to mention? Then, what are you waiting for!\n"
   ]
  },
  {
   "cell_type": "markdown",
   "metadata": {},
   "source": [
    "### Reporting a Bug"
   ]
  },
  {
   "cell_type": "markdown",
   "metadata": {},
   "source": [
    "STARDIS is in active development. There’s no surprise that you may encounter something that doesn’t work for your use case. Or maybe you have some suggestions about how can we improve some functionality. Feel free to share any of it with us by [opening an issue](https://docs.github.com/en/issues/tracking-your-work-with-issues/using-issues/creating-an-issue) on the [STARDIS Github project](https://github.com/tardis-sn/stardis/issues).\n",
    "\n",
    "Please make sure that you provide all the necessary information requested by prompts in the issue body - it will not only make our work easier but will also help you to communicate your problem better."
   ]
  },
  {
   "cell_type": "markdown",
   "metadata": {},
   "source": [
    "### Editing the Documentation"
   ]
  },
  {
   "cell_type": "markdown",
   "metadata": {},
   "source": [
    "Documentation can always be improved upon by adding missing information or making it easier to read. Lucky for you, you can make edits and fixes to the documentation pages that are stored in the `docs` directory of STARDIS. The majority of STARDIS documentation is made using Jupyter Notebooks and Markdown, which you can learn more about [here](https://www.geeksforgeeks.org/markdown-cell-in-jupyter-notebook/).\n",
    "\n",
    "<!-- Add a reference to something on building docs locally to test changes-->"
   ]
  },
  {
   "cell_type": "markdown",
   "metadata": {},
   "source": [
    "### Making a Patch"
   ]
  },
  {
   "cell_type": "markdown",
   "metadata": {},
   "source": [
    "If you have peeked in our codebase and realized how you can fix a problem or if you know how to add a new feature, well done! If not, don't worry - just pick a [Github issue](https://github.com/tardis-sn/stardis/issues) that you think you can fix and give it a try.\n"
   ]
  },
  {
   "cell_type": "markdown",
   "metadata": {},
   "source": []
  }
 ],
 "metadata": {
  "language_info": {
   "name": "python"
  }
 },
 "nbformat": 4,
 "nbformat_minor": 2
}
